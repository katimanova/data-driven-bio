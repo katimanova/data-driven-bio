{
 "cells": [
  {
   "cell_type": "markdown",
   "metadata": {},
   "source": [
    "\n",
    "### **Step 1: Контроль качества ридов с помощью FastQC**\n",
    "\n",
    "**a. Создание conda-окружения `fastq`**  \n",
    "```bash\n",
    "mamba create -n fastq\n",
    "```\n",
    "\n",
    "**b. Активация окружения и установка FastQC**  \n",
    "1. **Активация окружения**  \n",
    "   ```bash\n",
    "   conda activate fastqc\n",
    "   ```\n",
    "2. **Установка FastQC**  \n",
    "   ```bash\n",
    "   mamba install -c conda-forge -c bioconda -c defaults fastqc\n",
    "   ```\n",
    "\n",
    "**c. Запуск FastQC на 6 файлах и сохранение отчетов**  \n",
    "Относительный путь к локальной папке с файлами: `../../data_srr/`\n",
    "```bash\n",
    "fastqc ../../data_srr/SRR292678sub_S1_L001_R1_001.fastq ../../data_srr/SRR292678sub_S1_L001_R2_001.fastq ../../data_srr/SRR292770_S1_L001_R1_001.fastq ../../data_srr/SRR292770_S1_L001_R2_001.fastq ../../data_srr/SRR292862_S2_L001_R1_001.fastq ../../data_srr/SRR292862_S2_L001_R2_001.fastq -o ./fastqc\n",
    "```\n",
    "\n",
    "**d. Удаление ненужных `.zip` файлов**\n",
    "```bash\n",
    "rm *.zip\n",
    "```\n",
    "\n",
    "**Описание этапа**  \n",
    "Этот этап выполнялся для проверки качества ридов с помощью FastQC, чтобы убедиться в их пригодности для дальнейшего анализа. Проверка позволяет выявить проблемы, такие как низкое качество чтений или наличие адаптерных последовательностей, которые могут повлиять на последующие этапы обработки данных.\n"
   ]
  },
  {
   "cell_type": "markdown",
   "metadata": {},
   "source": [
    "### **Step 2**"
   ]
  },
  {
   "cell_type": "markdown",
   "metadata": {},
   "source": [
    "### **Step 3**"
   ]
  },
  {
   "cell_type": "markdown",
   "metadata": {},
   "source": [
    "### **Step 4**"
   ]
  },
  {
   "cell_type": "markdown",
   "metadata": {},
   "source": [
    "### **Step 5**"
   ]
  }
 ],
 "metadata": {
  "language_info": {
   "name": "python"
  }
 },
 "nbformat": 4,
 "nbformat_minor": 2
}
