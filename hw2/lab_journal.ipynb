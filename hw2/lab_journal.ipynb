{
 "cells": [
  {
   "cell_type": "markdown",
   "metadata": {},
   "source": [
    "\n",
    "### **Step 1: Контроль качества ридов с помощью FastQC**\n",
    "\n",
    "**a. Создание conda-окружения `fastq`**  \n",
    "```bash\n",
    "mamba create -n fastq\n",
    "```\n",
    "\n",
    "**b. Активация окружения и установка FastQC**  \n",
    "1. **Активация окружения**  \n",
    "   ```bash\n",
    "   conda activate fastqc\n",
    "   ```\n",
    "2. **Установка FastQC**  \n",
    "   ```bash\n",
    "   mamba install -c conda-forge -c bioconda -c defaults fastqc\n",
    "   ```\n",
    "\n",
    "**c-d. Запуск FastQC на 6 файлах и сохранение отчетов**  \n",
    "Относительный путь к локальной папке с файлами: `../../data_srr/`\n",
    "```bash\n",
    "fastqc ../../data_srr/SRR292678sub_S1_L001_R1_001.fastq ../../data_srr/SRR292678sub_S1_L001_R2_001.fastq ../../data_srr/SRR292770_S1_L001_R1_001.fastq ../../data_srr/SRR292770_S1_L001_R2_001.fastq ../../data_srr/SRR292862_S2_L001_R1_001.fastq ../../data_srr/SRR292862_S2_L001_R2_001.fastq -o ./fastqc\n",
    "```\n",
    "\n",
    "**Удаление ненужных `.zip` файлов**\n",
    "```bash\n",
    "rm *.zip\n",
    "```\n",
    "\n",
    "**Описание этапа**  \n",
    "Этот этап выполнялся для проверки качества ридов с помощью FastQC, чтобы убедиться в их пригодности для дальнейшего анализа. Проверка позволяет выявить проблемы, такие как низкое качество чтений или наличие адаптерных последовательностей, которые могут повлиять на последующие этапы обработки данных.\n"
   ]
  },
  {
   "cell_type": "markdown",
   "metadata": {},
   "source": [
    "### **Step 2. Сборка генома**\n",
    "\n",
    "**a. Создание conda-окружения `spades`**  \n",
    "```bash\n",
    "mamba create -n spades\n",
    "```\n",
    "\n",
    "**b. Активация окружения и установка SPAdes**  \n",
    "1. **Активация окружения**  \n",
    "   ```bash\n",
    "   conda activate spades\n",
    "   ```\n",
    "2. **Установка SPAdes**  \n",
    "   ```bash\n",
    "   mamba install -c conda-forge -c bioconda -c defaults spades\n",
    "   ```\n",
    "\n",
    "**c-d. Сборка генома используя только paired-end риды (SRR292678) и сохранение файлов contigs.fasta и scaffolds.fasta в папку hw2/spades**  \n",
    "```bash\n",
    "spades.py -1 ../../data_srr/SRR292678sub_S1_L001_R1_001.fastq -2 ../../data_srr/SRR292678sub_S1_L001_R2_001.fastq -o ./spades\n",
    "```\n",
    "так, дальше шла подчистка всех файлов и удаление ненужного \n",
    "```bash\n",
    "find . -maxdepth 1 -type f ! -name 'contigs.fasta' ! -name 'scaffolds.fasta' -exec rm {} +\n",
    "find . -maxdepth 1 -type d ! -name '.' -exec rm -r {} +\n",
    "```\n"
   ]
  },
  {
   "cell_type": "markdown",
   "metadata": {},
   "source": [
    "### **Step 3**"
   ]
  },
  {
   "cell_type": "markdown",
   "metadata": {},
   "source": [
    "### **Step 4**"
   ]
  },
  {
   "cell_type": "markdown",
   "metadata": {},
   "source": [
    "### **Step 5**"
   ]
  }
 ],
 "metadata": {
  "language_info": {
   "name": "python"
  }
 },
 "nbformat": 4,
 "nbformat_minor": 2
}
